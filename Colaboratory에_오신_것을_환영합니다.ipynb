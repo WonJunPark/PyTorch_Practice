{
  "nbformat": 4,
  "nbformat_minor": 0,
  "metadata": {
    "colab": {
      "name": "Colaboratory에 오신 것을 환영합니다",
      "provenance": [],
      "collapsed_sections": [],
      "toc_visible": true,
      "include_colab_link": true
    },
    "kernelspec": {
      "display_name": "Python 3",
      "name": "python3"
    }
  },
  "cells": [
    {
      "cell_type": "markdown",
      "metadata": {
        "id": "view-in-github",
        "colab_type": "text"
      },
      "source": [
        "<a href=\"https://colab.research.google.com/github/WonJunPark/PyTorch_Practice/blob/master/Colaboratory%EC%97%90_%EC%98%A4%EC%8B%A0_%EA%B2%83%EC%9D%84_%ED%99%98%EC%98%81%ED%95%A9%EB%8B%88%EB%8B%A4.ipynb\" target=\"_parent\"><img src=\"https://colab.research.google.com/assets/colab-badge.svg\" alt=\"Open In Colab\"/></a>"
      ]
    },
    {
      "cell_type": "code",
      "metadata": {
        "id": "iVvQutYBSrxm",
        "colab_type": "code",
        "colab": {}
      },
      "source": [
        "import torch"
      ],
      "execution_count": 2,
      "outputs": []
    },
    {
      "cell_type": "code",
      "metadata": {
        "id": "nfza6BnhSahn",
        "colab_type": "code",
        "colab": {
          "base_uri": "https://localhost:8080/",
          "height": 34
        },
        "outputId": "103e5a76-b8c4-4015-82c3-873bb54c9e4e"
      },
      "source": [
        "x = torch.tensor([1.0], requires_grad=True)\n",
        "y = x*2\n",
        "\n",
        "y.requires_grad"
      ],
      "execution_count": 3,
      "outputs": [
        {
          "output_type": "execute_result",
          "data": {
            "text/plain": [
              "True"
            ]
          },
          "metadata": {
            "tags": []
          },
          "execution_count": 3
        }
      ]
    },
    {
      "cell_type": "code",
      "metadata": {
        "id": "oUmkkT5RSafQ",
        "colab_type": "code",
        "colab": {
          "base_uri": "https://localhost:8080/",
          "height": 34
        },
        "outputId": "4979493d-5b39-4528-c45c-a4414c9ccda7"
      },
      "source": [
        "x = torch.tensor([1.0], requires_grad=True)\n",
        "\n",
        "with torch.no_grad():\n",
        "  y = x*2\n",
        "\n",
        "y.requires_grad"
      ],
      "execution_count": 7,
      "outputs": [
        {
          "output_type": "execute_result",
          "data": {
            "text/plain": [
              "False"
            ]
          },
          "metadata": {
            "tags": []
          },
          "execution_count": 7
        }
      ]
    },
    {
      "cell_type": "code",
      "metadata": {
        "id": "SDyZBfqDSaci",
        "colab_type": "code",
        "colab": {
          "base_uri": "https://localhost:8080/",
          "height": 34
        },
        "outputId": "e3d569b6-5550-4a92-9fb4-049b53583d74"
      },
      "source": [
        "x = torch.tensor([1.0], requires_grad=True)\n",
        "\n",
        "with torch.no_grad():\n",
        "  with torch.enable_grad():\n",
        "    y = x*2\n",
        "\n",
        "y.requires_grad"
      ],
      "execution_count": 8,
      "outputs": [
        {
          "output_type": "execute_result",
          "data": {
            "text/plain": [
              "True"
            ]
          },
          "metadata": {
            "tags": []
          },
          "execution_count": 8
        }
      ]
    },
    {
      "cell_type": "code",
      "metadata": {
        "id": "OHTijMZOSaaB",
        "colab_type": "code",
        "colab": {
          "base_uri": "https://localhost:8080/",
          "height": 34
        },
        "outputId": "aa2e1797-435b-47a9-a7f3-5b0c7a7e019c"
      },
      "source": [
        "x"
      ],
      "execution_count": 9,
      "outputs": [
        {
          "output_type": "execute_result",
          "data": {
            "text/plain": [
              "tensor([1.], requires_grad=True)"
            ]
          },
          "metadata": {
            "tags": []
          },
          "execution_count": 9
        }
      ]
    },
    {
      "cell_type": "code",
      "metadata": {
        "id": "_pOLMLTKSaXW",
        "colab_type": "code",
        "colab": {}
      },
      "source": [
        "import numpy as np"
      ],
      "execution_count": 11,
      "outputs": []
    },
    {
      "cell_type": "code",
      "metadata": {
        "id": "-uUvIj3VVmk7",
        "colab_type": "code",
        "colab": {}
      },
      "source": [
        "a_ref = -1.5\n",
        "b_ref = 8\n",
        "noise = 0.2*np.random.randn(50)"
      ],
      "execution_count": 12,
      "outputs": []
    },
    {
      "cell_type": "code",
      "metadata": {
        "id": "7k8kKYuXVmnN",
        "colab_type": "code",
        "colab": {}
      },
      "source": [
        "x = np.linspace(1,4,50)\n",
        "y = a_ref*x+b_ref+noise"
      ],
      "execution_count": 15,
      "outputs": []
    },
    {
      "cell_type": "code",
      "metadata": {
        "id": "lVg7gKMGVmr8",
        "colab_type": "code",
        "colab": {}
      },
      "source": [
        "def MSE_loss(pred, label):\n",
        "  return (pred-label).pow(2).mean()"
      ],
      "execution_count": 18,
      "outputs": []
    },
    {
      "cell_type": "code",
      "metadata": {
        "id": "RbvsdhiPW7LH",
        "colab_type": "code",
        "colab": {}
      },
      "source": [
        "xx = torch.tensor(x, dtype=torch.float32)\n",
        "yy = torch.tensor(y, dtype=torch.float32)\n",
        "\n",
        "a = torch.tensor(0, requires_grad=True, dtype=torch.float32)\n",
        "b = torch.tensor(5, requires_grad=True, dtype=torch.float32)"
      ],
      "execution_count": 19,
      "outputs": []
    },
    {
      "cell_type": "code",
      "metadata": {
        "id": "YCVZ2wYZVmuj",
        "colab_type": "code",
        "colab": {
          "base_uri": "https://localhost:8080/",
          "height": 51
        },
        "outputId": "1a53cc0d-1026-4669-9e8a-02828864326b"
      },
      "source": [
        "ep = 10000\n",
        "lr = 0.01\n",
        "\n",
        "for ii in range(ep):\n",
        "  y_pred = a*xx+b\n",
        "  loss = MSE_loss(pred=y_pred, label=yy)\n",
        "  loss.backward()\n",
        "\n",
        "  with torch.no_grad():\n",
        "    a = a-lr*a.grad\n",
        "    b = b-lr*b.grad\n",
        "\n",
        "  a.requires_grad = True\n",
        "  b.requires_grad = True\n",
        "\n",
        "print(a)\n",
        "print(b)"
      ],
      "execution_count": 22,
      "outputs": [
        {
          "output_type": "stream",
          "text": [
            "tensor(-1.4924, requires_grad=True)\n",
            "tensor(7.9947, requires_grad=True)\n"
          ],
          "name": "stdout"
        }
      ]
    },
    {
      "cell_type": "code",
      "metadata": {
        "id": "I7l_6ucIXzDx",
        "colab_type": "code",
        "colab": {}
      },
      "source": [
        ""
      ],
      "execution_count": null,
      "outputs": []
    },
    {
      "cell_type": "code",
      "metadata": {
        "id": "mzvsAHDbXy-v",
        "colab_type": "code",
        "colab": {}
      },
      "source": [
        ""
      ],
      "execution_count": null,
      "outputs": []
    },
    {
      "cell_type": "code",
      "metadata": {
        "id": "zNvlMmerVmw_",
        "colab_type": "code",
        "colab": {}
      },
      "source": [
        ""
      ],
      "execution_count": null,
      "outputs": []
    },
    {
      "cell_type": "code",
      "metadata": {
        "id": "Drg9VBpSVmzV",
        "colab_type": "code",
        "colab": {}
      },
      "source": [
        ""
      ],
      "execution_count": null,
      "outputs": []
    },
    {
      "cell_type": "code",
      "metadata": {
        "id": "ZLiEvxrhVm90",
        "colab_type": "code",
        "colab": {}
      },
      "source": [
        ""
      ],
      "execution_count": null,
      "outputs": []
    },
    {
      "cell_type": "code",
      "metadata": {
        "id": "ulHwCjPqVnAP",
        "colab_type": "code",
        "colab": {}
      },
      "source": [
        ""
      ],
      "execution_count": null,
      "outputs": []
    }
  ]
}